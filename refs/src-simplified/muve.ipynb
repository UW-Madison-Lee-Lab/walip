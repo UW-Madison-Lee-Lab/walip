{
 "cells": [
  {
   "cell_type": "code",
   "execution_count": 2,
   "id": "disciplinary-samba",
   "metadata": {},
   "outputs": [],
   "source": [
    "import os, torch, sys, scipy\n",
    "import numpy as np\n",
    "import torch.nn.functional as F\n",
    "from utils.text_loader import get_word2id, load_vocabs, write_vocabs\n",
    "from utils.helper import dict2clsattr\n",
    "from translation import align_words, load_test_dict, train_supervision, cal_similarity, robust_procrustes, get_dico_dict\n",
    "from models.embedding import ClipEmbedding\n",
    "from evals.word_translation import get_csls_word_translation, get_topk_translation_accuracy, get_topk_accuracy, get_candidates, read_txt_embeddings\n",
    "import argparse, json\n",
    "import configs\n",
    "os.environ['TOKENIZERS_PARALLELISM'] = \"false\""
   ]
  },
  {
   "cell_type": "code",
   "execution_count": 71,
   "id": "quick-bumper",
   "metadata": {},
   "outputs": [],
   "source": [
    "with open(\"configs/analysis.json\") as f:\n",
    "    model_config = json.load(f)\n",
    "\n",
    "args = dict2clsattr({}, model_config)\n",
    "args.langs = {configs.SRC: args.src_lang, configs.TGT: args.tgt_lang}\n",
    "# args.device = torch.device('cuda') if torch.cuda.is_available() else torch.device('cpu')\n",
    "args.device = torch.device('cpu')"
   ]
  },
  {
   "cell_type": "code",
   "execution_count": 72,
   "id": "royal-humidity",
   "metadata": {},
   "outputs": [],
   "source": [
    "word2ids, embs, id2words = {}, {}, {}\n",
    "for key, lang in args.langs.items():\n",
    "    emb_pth = f'../../clip-uwt/dataset/howtotext/howto100m_{lang}_sentences_train_text_txt_processed.txt.vectors.1th.win5.dim300.skipgram.vec'\n",
    "#     emb_pth = f'../../clip-uwt/muse/data/wiki.{lang}.vec'\n",
    "    id2words[key], word2ids[key], embs[key] = read_txt_embeddings(emb_pth)"
   ]
  },
  {
   "cell_type": "markdown",
   "id": "opened-environment",
   "metadata": {},
   "source": [
    "Load vocabs from en-fr"
   ]
  },
  {
   "cell_type": "code",
   "execution_count": 73,
   "id": "broadband-philippines",
   "metadata": {},
   "outputs": [],
   "source": [
    "vocabs = {}\n",
    "new_embs = {}\n",
    "for key, lang in args.langs.items():\n",
    "    vocabs[key] = load_vocabs(lang, args.langs, args.word_data, args.data_mode)\n",
    "    inds = [word2ids[key][w] for w in vocabs[key]]\n",
    "    new_embs[key] = embs[key][np.asarray(inds)]\n",
    "    "
   ]
  },
  {
   "cell_type": "code",
   "execution_count": 78,
   "id": "sitting-johnston",
   "metadata": {},
   "outputs": [],
   "source": [
    "root = f\"../../clip-uwt/dicts/embeddings/fasttext/wiki/fasttext_wiki_{args.langs['src']}_{args.langs['tgt']}\"\n",
    "np.save(root + f\"_{args.langs['src']}_test\", new_embs['src'])\n",
    "np.save(root + f\"_{args.langs['tgt']}_test\", new_embs['tgt'])"
   ]
  },
  {
   "cell_type": "code",
   "execution_count": 77,
   "id": "eight-joyce",
   "metadata": {},
   "outputs": [
    {
     "data": {
      "text/plain": [
       "(2879, 300)"
      ]
     },
     "execution_count": 77,
     "metadata": {},
     "output_type": "execute_result"
    }
   ],
   "source": []
  },
  {
   "cell_type": "code",
   "execution_count": 60,
   "id": "knowing-oriental",
   "metadata": {},
   "outputs": [
    {
     "data": {
      "text/plain": [
       "torch.Size([2879, 2])"
      ]
     },
     "execution_count": 60,
     "metadata": {},
     "output_type": "execute_result"
    }
   ],
   "source": [
    "test_dico = load_test_dict(args, word2ids)\n",
    "test_dico.shape"
   ]
  },
  {
   "cell_type": "code",
   "execution_count": 61,
   "id": "enabling-princess",
   "metadata": {},
   "outputs": [],
   "source": [
    "src_ids = []\n",
    "for i in test_dico[:, 0].cpu().numpy():\n",
    "    if i not in src_ids:\n",
    "        src_ids.append(i)"
   ]
  },
  {
   "cell_type": "code",
   "execution_count": 62,
   "id": "municipal-prophet",
   "metadata": {},
   "outputs": [
    {
     "data": {
      "text/plain": [
       "1483"
      ]
     },
     "execution_count": 62,
     "metadata": {},
     "output_type": "execute_result"
    }
   ],
   "source": [
    "len(src_ids)"
   ]
  },
  {
   "cell_type": "code",
   "execution_count": 63,
   "id": "offshore-momentum",
   "metadata": {},
   "outputs": [],
   "source": [
    "src_embs = embs['src'][src_ids]\n",
    "tgt_embs = embs['tgt'][test_dico[:, 1]]"
   ]
  },
  {
   "cell_type": "markdown",
   "id": "necessary-strand",
   "metadata": {},
   "source": [
    "Use the dictionary dataset"
   ]
  },
  {
   "cell_type": "code",
   "execution_count": 64,
   "id": "pleased-brisbane",
   "metadata": {},
   "outputs": [
    {
     "data": {
      "text/plain": [
       "(1483, 300)"
      ]
     },
     "execution_count": 64,
     "metadata": {},
     "output_type": "execute_result"
    }
   ],
   "source": [
    "src_embs.shape"
   ]
  },
  {
   "cell_type": "code",
   "execution_count": 65,
   "id": "identified-light",
   "metadata": {},
   "outputs": [],
   "source": [
    "# src\n",
    "root = f\"../../clip-uwt/dicts/embeddings/howtowtext/wiki/howtowtext_wiki_{args.langs['src']}_{args.langs['tgt']}\"\n",
    "np.save(root + f\"_{args.langs['src']}_test\", src_embs)\n",
    "np.save(root + f\"_{args.langs['tgt']}_test\", tgt_embs)"
   ]
  },
  {
   "cell_type": "code",
   "execution_count": 68,
   "id": "infinite-holly",
   "metadata": {},
   "outputs": [],
   "source": [
    "vocabs = {}\n",
    "vocabs['src'] = [id2words['src'][k.item()] for k in src_ids]\n",
    "vocabs['tgt'] = [id2words['tgt'][k.item()] for k in test_dico[:, 1]]"
   ]
  },
  {
   "cell_type": "code",
   "execution_count": 69,
   "id": "bridal-perspective",
   "metadata": {},
   "outputs": [
    {
     "name": "stdout",
     "output_type": "stream",
     "text": [
      "Done en\n",
      "Done fr\n"
     ]
    }
   ],
   "source": [
    "for l, lang in args.langs.items():\n",
    "    write_vocabs(vocabs[l], args.langs[l], args.langs, args.word_data, args.data_mode)\n",
    "    print('Done', lang)"
   ]
  },
  {
   "cell_type": "code",
   "execution_count": null,
   "id": "loving-decrease",
   "metadata": {},
   "outputs": [],
   "source": []
  }
 ],
 "metadata": {
  "kernelspec": {
   "display_name": "pyclip",
   "language": "python",
   "name": "pyclip"
  },
  "language_info": {
   "codemirror_mode": {
    "name": "ipython",
    "version": 3
   },
   "file_extension": ".py",
   "mimetype": "text/x-python",
   "name": "python",
   "nbconvert_exporter": "python",
   "pygments_lexer": "ipython3",
   "version": "3.8.12"
  }
 },
 "nbformat": 4,
 "nbformat_minor": 5
}
