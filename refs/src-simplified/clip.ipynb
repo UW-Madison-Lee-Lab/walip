{
 "cells": [
  {
   "cell_type": "markdown",
   "id": "naughty-tradition",
   "metadata": {},
   "source": [
    "Load model"
   ]
  },
  {
   "cell_type": "code",
   "execution_count": 1,
   "id": "designing-reynolds",
   "metadata": {},
   "outputs": [
    {
     "name": "stderr",
     "output_type": "stream",
     "text": [
      "/home/dthai_umass_edu/miniconda3/envs/pyclip/lib/python3.8/site-packages/torch/cuda/__init__.py:80: UserWarning: CUDA initialization: Unexpected error from cudaGetDeviceCount(). Did you run some cuda functions before calling NumCudaDevices() that might have already set an error? Error 101: invalid device ordinal (Triggered internally at  /opt/conda/conda-bld/pytorch_1639180588308/work/c10/cuda/CUDAFunctions.cpp:112.)\n",
      "  return torch._C._cuda_getDeviceCount() > 0\n"
     ]
    }
   ],
   "source": [
    "import os, torch, sys\n",
    "import numpy as np\n",
    "import torch.nn.functional as F\n",
    "from utils.text_loader import load_vocabs, load_vocabs_from_pairs, write_vocabs, combine_files, get_word2id\n",
    "from utils.helper import dict2clsattr, check_noun, generate_path\n",
    "from models.embedding import ClipEmbedding\n",
    "import argparse, json\n",
    "import configs\n",
    "os.environ['TOKENIZERS_PARALLELISM'] = \"false\""
   ]
  },
  {
   "cell_type": "code",
   "execution_count": 2,
   "id": "destroyed-employee",
   "metadata": {},
   "outputs": [],
   "source": [
    "from translation import align_words, load_test_dict, train_supervision, cal_similarity, robust_procrustes, get_dico_dict"
   ]
  },
  {
   "cell_type": "code",
   "execution_count": 3,
   "id": "treated-general",
   "metadata": {},
   "outputs": [],
   "source": [
    "from matplotlib import pyplot as plt"
   ]
  },
  {
   "cell_type": "code",
   "execution_count": 4,
   "id": "danish-april",
   "metadata": {},
   "outputs": [],
   "source": [
    "with open(\"configs/analysis.json\") as f:\n",
    "    model_config = json.load(f)\n",
    "\n",
    "args = dict2clsattr({}, model_config)\n",
    "args.langs = {configs.SRC: args.src_lang, configs.TGT: args.tgt_lang}\n",
    "# args.device = torch.device('cuda') if torch.cuda.is_available() else torch.device('cpu')\n",
    "args.device = torch.device('cpu')"
   ]
  },
  {
   "cell_type": "markdown",
   "id": "seeing-consumer",
   "metadata": {},
   "source": [
    "Load embedding"
   ]
  },
  {
   "cell_type": "code",
   "execution_count": 5,
   "id": "variable-reserve",
   "metadata": {},
   "outputs": [],
   "source": [
    "def load_200k_embeddings(langs, word_data, opts):\n",
    "    word2ids, vocabs = {}, {}\n",
    "    embs = {configs.FINGERPRINT: {}, configs.FASTTEXT: {}}\n",
    "    data_mode = 'full'\n",
    "    for key, lang in langs.items():\n",
    "        vocabs[key] = load_vocabs(lang, opts.langs, word_data, data_mode)\n",
    "        word2ids[key] = get_word2id(vocabs[key])\n",
    "        for emb_type in [configs.FINGERPRINT, configs.FASTTEXT]:\n",
    "            embObj = ClipEmbedding(emb_type, lang, data_mode, opts)\n",
    "            embs[emb_type][key] = torch.Tensor(embObj.load_embedding(vocabs[key])).to(opts.device)\n",
    "    return word2ids, embs, vocabs"
   ]
  },
  {
   "cell_type": "code",
   "execution_count": 6,
   "id": "sixth-lightweight",
   "metadata": {},
   "outputs": [
    {
     "name": "stdout",
     "output_type": "stream",
     "text": [
      "en fp embedding\n",
      "..... Reuse emb fp_imagenet_s_wiki_en_ru_en_full_k3\n",
      "en fasttext embedding\n",
      "..... Reuse emb fasttext_wiki_en_ru_en_full\n",
      "ru fp embedding\n",
      "..... Reuse emb fp_imagenet_s_wiki_en_ru_ru_full_k3\n",
      "ru fasttext embedding\n",
      "..... Reuse emb fasttext_wiki_en_ru_ru_full\n"
     ]
    }
   ],
   "source": [
    "word2ids, embs, vocabs = load_200k_embeddings(args.langs, args.word_data, args)"
   ]
  },
  {
   "cell_type": "code",
   "execution_count": 7,
   "id": "material-cooperative",
   "metadata": {},
   "outputs": [],
   "source": [
    "# test_dico\n",
    "test_dico = load_test_dict(args, word2ids)\n",
    "src_ids = []\n",
    "for i in test_dico[:, 0].numpy():\n",
    "    if i not in src_ids:\n",
    "        src_ids.append(i)\n",
    "\n",
    "src_ids = np.asarray(src_ids) # all 1500 ids\n",
    "# src_ids = src_ids[filter_ids]\n",
    "src_id_map = {}\n",
    "for i in range(len(src_ids)):\n",
    "    src_id_map[src_ids[i]] = i\n",
    "\n",
    "src_test_dico = [] # [0, id]\n",
    "for i in range(len(test_dico)):\n",
    "    r = test_dico[i].numpy()\n",
    "    if r[0] in src_ids:\n",
    "        src_test_dico.append([src_id_map[r[0]], r[1]])\n",
    "src_test_dico = torch.Tensor(np.asarray(src_test_dico)).type(torch.LongTensor)"
   ]
  },
  {
   "cell_type": "code",
   "execution_count": 8,
   "id": "worthy-vietnamese",
   "metadata": {},
   "outputs": [],
   "source": [
    "# dictionary\n",
    "d = get_dico_dict(src_test_dico)"
   ]
  },
  {
   "cell_type": "code",
   "execution_count": 9,
   "id": "julian-costume",
   "metadata": {},
   "outputs": [],
   "source": [
    "fp_embs = {'src':  embs['fp']['src'][src_test_dico[:, 0]], 'tgt': embs['fp']['tgt'][src_test_dico[:, 1]]}\n",
    "# fp_scores = cal_similarity('csls', np.arange(src_ids.shape[0]), {'src': fp_embs['src'], 'tgt': embs['fp']['tgt']}, 'fp', False) "
   ]
  },
  {
   "cell_type": "code",
   "execution_count": 10,
   "id": "collected-enhancement",
   "metadata": {},
   "outputs": [],
   "source": [
    "X0 = fp_embs['src']\n",
    "Y0 = fp_embs['tgt']"
   ]
  },
  {
   "cell_type": "code",
   "execution_count": 11,
   "id": "available-search",
   "metadata": {},
   "outputs": [],
   "source": [
    "x1 = embs['fp']['src'][src_ids]\n",
    "y1 = embs['fp']['tgt'][src_test_dico[:, 1]]"
   ]
  },
  {
   "cell_type": "code",
   "execution_count": 12,
   "id": "supreme-cheese",
   "metadata": {},
   "outputs": [
    {
     "data": {
      "text/plain": [
       "torch.Size([2447, 2454])"
      ]
     },
     "execution_count": 12,
     "metadata": {},
     "output_type": "execute_result"
    }
   ],
   "source": [
    "Y0.shape"
   ]
  },
  {
   "cell_type": "code",
   "execution_count": 13,
   "id": "numeric-dutch",
   "metadata": {},
   "outputs": [
    {
     "data": {
      "text/plain": [
       "tensor([4.1423, 2.9957, 2.9962,  ..., 2.2639, 2.4623, 2.9107])"
      ]
     },
     "execution_count": 13,
     "metadata": {},
     "output_type": "execute_result"
    }
   ],
   "source": [
    "(X0 - Y0).norm(dim=1)"
   ]
  },
  {
   "cell_type": "code",
   "execution_count": 14,
   "id": "bulgarian-invasion",
   "metadata": {},
   "outputs": [
    {
     "data": {
      "text/plain": [
       "tensor([10.3095, 10.3095, 10.1258,  ..., 10.0495,  9.7604,  9.7604])"
      ]
     },
     "execution_count": 14,
     "metadata": {},
     "output_type": "execute_result"
    }
   ],
   "source": [
    "X0.norm(dim=1)"
   ]
  },
  {
   "cell_type": "code",
   "execution_count": 15,
   "id": "numeric-barcelona",
   "metadata": {},
   "outputs": [
    {
     "data": {
      "text/plain": [
       "tensor([6.7478, 8.3444, 7.7272,  ..., 9.2352, 8.7851, 8.2476])"
      ]
     },
     "execution_count": 15,
     "metadata": {},
     "output_type": "execute_result"
    }
   ],
   "source": [
    "Y0.norm(dim=1)"
   ]
  },
  {
   "cell_type": "code",
   "execution_count": 16,
   "id": "heated-filename",
   "metadata": {},
   "outputs": [
    {
     "data": {
      "text/plain": [
       "tensor([0.2332, 0.2135, 0.2326,  ..., 0.2215, 0.2357, 0.2159])"
      ]
     },
     "execution_count": 16,
     "metadata": {},
     "output_type": "execute_result"
    }
   ],
   "source": [
    "X0[0, :]"
   ]
  },
  {
   "cell_type": "code",
   "execution_count": 17,
   "id": "burning-camel",
   "metadata": {},
   "outputs": [
    {
     "data": {
      "text/plain": [
       "tensor([0.2254, 0.2066, 0.2263,  ..., 0.2201, 0.2336, 0.2095])"
      ]
     },
     "execution_count": 17,
     "metadata": {},
     "output_type": "execute_result"
    }
   ],
   "source": [
    "X0[3, :]"
   ]
  },
  {
   "cell_type": "code",
   "execution_count": 18,
   "id": "placed-peripheral",
   "metadata": {},
   "outputs": [
    {
     "data": {
      "text/plain": [
       "tensor([0.2401, 0.2157, 0.2351,  ..., 0.2196, 0.2404, 0.2299])"
      ]
     },
     "execution_count": 18,
     "metadata": {},
     "output_type": "execute_result"
    }
   ],
   "source": [
    "X0[5, :]"
   ]
  },
  {
   "cell_type": "code",
   "execution_count": 19,
   "id": "hollywood-testament",
   "metadata": {},
   "outputs": [],
   "source": [
    "def hist(X, k):\n",
    "    x = X[k, :].numpy()\n",
    "    nums, bins = np.histogram(x, bins=10)\n",
    "    plt.hist(x, bins)\n",
    "    plt.show()"
   ]
  },
  {
   "cell_type": "code",
   "execution_count": 20,
   "id": "hairy-sponsorship",
   "metadata": {},
   "outputs": [
    {
     "data": {
      "image/png": "[encoded data removed]",
      "text/plain": [
       "<Figure size 432x288 with 1 Axes>"
      ]
     },
     "metadata": {
      "needs_background": "light"
     },
     "output_type": "display_data"
    }
   ],
   "source": [
    "hist(X0, 0)\n"
   ]
  },
  {
   "cell_type": "code",
   "execution_count": 21,
   "id": "automotive-congo",
   "metadata": {},
   "outputs": [
    {
     "data": {
      "image/png": "[encoded data removed]",
      "text/plain": [
       "<Figure size 432x288 with 1 Axes>"
      ]
     },
     "metadata": {
      "needs_background": "light"
     },
     "output_type": "display_data"
    }
   ],
   "source": [
    "hist(X0, 3)"
   ]
  },
  {
   "cell_type": "code",
   "execution_count": 22,
   "id": "supported-stations",
   "metadata": {},
   "outputs": [
    {
     "data": {
      "image/png": "[encoded data removed]",
      "text/plain": [
       "<Figure size 432x288 with 1 Axes>"
      ]
     },
     "metadata": {
      "needs_background": "light"
     },
     "output_type": "display_data"
    }
   ],
   "source": [
    "hist(X0, 10)"
   ]
  },
  {
   "cell_type": "code",
   "execution_count": 23,
   "id": "right-monaco",
   "metadata": {},
   "outputs": [],
   "source": [
    "x2 = (x1 * 20).softmax(dim=1)"
   ]
  },
  {
   "cell_type": "code",
   "execution_count": 24,
   "id": "positive-reset",
   "metadata": {},
   "outputs": [],
   "source": [
    "y2 = (y1 * 20).softmax(dim=1)"
   ]
  },
  {
   "cell_type": "code",
   "execution_count": 25,
   "id": "quarterly-facility",
   "metadata": {},
   "outputs": [
    {
     "data": {
      "image/png": "[encoded data removed]",
      "text/plain": [
       "<Figure size 432x288 with 1 Axes>"
      ]
     },
     "metadata": {
      "needs_background": "light"
     },
     "output_type": "display_data"
    }
   ],
   "source": [
    "hist(x2, 0)"
   ]
  },
  {
   "cell_type": "code",
   "execution_count": 26,
   "id": "technological-limitation",
   "metadata": {},
   "outputs": [
    {
     "data": {
      "image/png": "[encoded data removed]",
      "text/plain": [
       "<Figure size 432x288 with 1 Axes>"
      ]
     },
     "metadata": {
      "needs_background": "light"
     },
     "output_type": "display_data"
    }
   ],
   "source": [
    "hist(x2, 2)"
   ]
  },
  {
   "cell_type": "code",
   "execution_count": 27,
   "id": "complimentary-swaziland",
   "metadata": {},
   "outputs": [
    {
     "data": {
      "image/png": "[encoded data removed]",
      "text/plain": [
       "<Figure size 432x288 with 1 Axes>"
      ]
     },
     "metadata": {
      "needs_background": "light"
     },
     "output_type": "display_data"
    }
   ],
   "source": [
    "hist(y2, 2)"
   ]
  },
  {
   "cell_type": "code",
   "execution_count": 28,
   "id": "confidential-parcel",
   "metadata": {},
   "outputs": [],
   "source": [
    "x0 = (X0 - X0.mean())/X0.std()"
   ]
  },
  {
   "cell_type": "code",
   "execution_count": 29,
   "id": "understood-necklace",
   "metadata": {},
   "outputs": [],
   "source": [
    "y0 = (Y0 - Y0.mean())/Y0.std()"
   ]
  },
  {
   "cell_type": "code",
   "execution_count": 30,
   "id": "resistant-petroleum",
   "metadata": {},
   "outputs": [],
   "source": [
    "from sklearn.cross_decomposition import CCA"
   ]
  },
  {
   "cell_type": "code",
   "execution_count": 31,
   "id": "worst-consumer",
   "metadata": {},
   "outputs": [],
   "source": [
    "ca = CCA()\n",
    "ca.fit(x0.numpy(), y0.numpy())\n",
    "X_c, Y_c = ca.transform(x0.numpy(), y0.numpy())"
   ]
  },
  {
   "cell_type": "code",
   "execution_count": 32,
   "id": "numeric-picnic",
   "metadata": {},
   "outputs": [
    {
     "data": {
      "text/plain": [
       "array([[-1.32746711e-06,  8.28221012e-06],\n",
       "       [-1.32746711e-06,  8.28221012e-06],\n",
       "       [ 4.34347260e-07, -9.76868172e-06],\n",
       "       ...,\n",
       "       [ 7.34620479e-06, -2.53462930e-06],\n",
       "       [ 2.64390383e-06,  7.84680758e-06],\n",
       "       [ 2.64390383e-06,  7.84680758e-06]])"
      ]
     },
     "execution_count": 32,
     "metadata": {},
     "output_type": "execute_result"
    }
   ],
   "source": [
    "X_c"
   ]
  },
  {
   "cell_type": "code",
   "execution_count": 35,
   "id": "caroline-clock",
   "metadata": {},
   "outputs": [],
   "source": [
    "xc = F.normalize(torch.Tensor(X_c), dim=1)"
   ]
  },
  {
   "cell_type": "code",
   "execution_count": 36,
   "id": "adequate-furniture",
   "metadata": {},
   "outputs": [],
   "source": [
    "yc = F.normalize(torch.Tensor(Y_c), dim=1)"
   ]
  },
  {
   "cell_type": "code",
   "execution_count": 38,
   "id": "permanent-residence",
   "metadata": {},
   "outputs": [],
   "source": [
    "s = xc @ yc.T"
   ]
  },
  {
   "cell_type": "code",
   "execution_count": 39,
   "id": "threatened-transition",
   "metadata": {},
   "outputs": [
    {
     "data": {
      "text/plain": [
       "torch.return_types.max(\n",
       "values=tensor([1.0000, 1.0000, 1.0000,  ..., 1.0000, 1.0000, 1.0000]),\n",
       "indices=tensor([ 725,  725, 1662,  ...,  425,  238,  238]))"
      ]
     },
     "execution_count": 39,
     "metadata": {},
     "output_type": "execute_result"
    }
   ],
   "source": [
    "s.max(dim=1)"
   ]
  },
  {
   "cell_type": "code",
   "execution_count": null,
   "id": "nervous-booking",
   "metadata": {},
   "outputs": [],
   "source": []
  }
 ],
 "metadata": {
  "kernelspec": {
   "display_name": "pyclip",
   "language": "python",
   "name": "pyclip"
  },
  "language_info": {
   "codemirror_mode": {
    "name": "ipython",
    "version": 3
   },
   "file_extension": ".py",
   "mimetype": "text/x-python",
   "name": "python",
   "nbconvert_exporter": "python",
   "pygments_lexer": "ipython3",
   "version": "3.8.12"
  }
 },
 "nbformat": 4,
 "nbformat_minor": 5
}
